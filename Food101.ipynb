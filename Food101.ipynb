{
  "nbformat": 4,
  "nbformat_minor": 0,
  "metadata": {
    "colab": {
      "name": "Food101.ipynb",
      "provenance": [],
      "collapsed_sections": []
    },
    "kernelspec": {
      "name": "python3",
      "display_name": "Python 3"
    },
    "language_info": {
      "name": "python"
    }
  },
  "cells": [
    {
      "cell_type": "markdown",
      "metadata": {
        "id": "4JhfMlRk5FnO"
      },
      "source": [
        "Steps:\n",
        "* Using TensorFlow Datasets to download and explore data\n",
        "* Creating a preprocessing function for our data \n",
        "* Batching and preparing datasets for modelling (making them run fast)\n",
        "* Setting up **mixed precision training** (for faster model training)\n",
        "* Building and training a feature extraction model\n",
        "* Fine-tuning the feature extraction model to beat the DeepFood paper\n",
        "* Evaluating results on TensorBoard\n",
        "* Evaluating results by making and plotting predictions\n",
        "\n",
        "\n",
        "# Checking the GPU for Mixed Precision Training\n",
        "\n",
        "Since we are dealing with such a huge training set, we can certainly benefit from speeding up the process by using Mixed Precision Training. Unfortunately, this requires having access to a GPU of Compute Capability `7.0` or higher and the only GPU that Colab gives access to is the Tesla T4 (that meets the requirement).  "
      ]
    },
    {
      "cell_type": "code",
      "metadata": {
        "colab": {
          "base_uri": "https://localhost:8080/"
        },
        "id": "RXQMG32-Y21f",
        "outputId": "eb4d91a6-2906-4aad-a071-acc81de118ff"
      },
      "source": [
        "!nvidia-smi -L"
      ],
      "execution_count": 2,
      "outputs": [
        {
          "output_type": "stream",
          "text": [
            "NVIDIA-SMI has failed because it couldn't communicate with the NVIDIA driver. Make sure that the latest NVIDIA driver is installed and running.\n",
            "\n"
          ],
          "name": "stdout"
        }
      ]
    },
    {
      "cell_type": "markdown",
      "metadata": {
        "id": "88Rwleu8Y63Z"
      },
      "source": [
        "# Data and Prep\n",
        "\n",
        "We bring in the data for Food101 using TensorFlow datasets: the benefit with this is that we can skip some preprocessing steps since the data is **already in tensor format**.\n",
        "\n",
        "Similarly we define some helper functions for later."
      ]
    },
    {
      "cell_type": "code",
      "metadata": {
        "id": "80v6wtgH66rA"
      },
      "source": [
        "import tensorflow as tf\n",
        "import matplotlib.pyplot as plt\n",
        "import datetime\n",
        "\n",
        "def create_tensorboard_callback(experiment, root_dir=\"food101models\"):\n",
        "  \"\"\"Creates a TensorBoard callback instance to store log files\"\"\"\n",
        "  log_dir = root_dir + \"/\" + experiment + datetime.datetime.now().strftime(\"%Y%m%d-%H%M%S\")\n",
        "  tensorboard_callback = tf.keras.callbacks.TensorBoard(log_dir=log_dir)\n",
        "  print(f\"Saving TensorBoard log files to: {log_dir}\")\n",
        "  return tensorboard_callback\n",
        "\n",
        "def plot_loss_curves(history):\n",
        "  \"\"\"Plots the loss and accuracy curves for a given History object on seperate graphs\"\"\"\n",
        "  # Get the information\n",
        "  acc = history.history[\"accuracy\"]\n",
        "  loss = history.history[\"loss\"]\n",
        "  val_acc = history.history[\"val_accuracy\"]\n",
        "  val_loss = history.history[\"val_loss\"]\n",
        "\n",
        "  epochs = range(len(history.history[\"loss\"]))\n",
        "\n",
        "  # Plot the accuracy curves\n",
        "  plt.figure()\n",
        "  plt.plot(epochs, acc, label=\"Training Accuracy\")\n",
        "  plt.plot(epochs, val_acc, label=\"Validation Accuracy\")\n",
        "  plt.title(\"Accuracy\")\n",
        "  plt.xlabel(\"Epochs\")\n",
        "  plt.legend();\n",
        "\n",
        "  # Plot Loss curves\n",
        "  plt.figure()\n",
        "  plt.plot(epochs, loss, label=\"Training Loss\")\n",
        "  plt.plot(epochs, val_loss, label=\"Validation Loss\")\n",
        "  plt.title(\"Loss\")\n",
        "  plt.xlabel(\"Epochs\")\n",
        "  plt.legend()\n",
        "\n",
        "\n",
        "def compare_historys(original_history, new_history, initial_epochs=3):\n",
        "    \"\"\"Compares two TensorFlow model History objects. Designed for Fine-tuning experiments.\"\"\"\n",
        "    \n",
        "    # Get original history measurements\n",
        "    acc = original_history.history[\"accuracy\"]\n",
        "    loss = original_history.history[\"loss\"]\n",
        "\n",
        "    val_acc = original_history.history[\"val_accuracy\"]\n",
        "    val_loss = original_history.history[\"val_loss\"]\n",
        "\n",
        "    # Combine original history with new history\n",
        "    total_acc = acc + new_history.history[\"accuracy\"]\n",
        "    total_loss = loss + new_history.history[\"loss\"]\n",
        "\n",
        "    total_val_acc = val_acc + new_history.history[\"val_accuracy\"]\n",
        "    total_val_loss = val_loss + new_history.history[\"val_loss\"]\n",
        "\n",
        "    # Make plots\n",
        "    plt.figure(figsize=(8, 8))\n",
        "    plt.subplot(2, 1, 1)\n",
        "    plt.plot(total_acc, label='Training Accuracy')\n",
        "    plt.plot(total_val_acc, label='Validation Accuracy')\n",
        "    plt.plot([initial_epochs-1, initial_epochs-1],\n",
        "              plt.ylim(), label='Start Fine Tuning') # reshift plot around epochs\n",
        "    plt.legend(loc='lower right')\n",
        "    plt.title('Training and Validation Accuracy')\n",
        "\n",
        "    plt.subplot(2, 1, 2)\n",
        "    plt.plot(total_loss, label='Training Loss')\n",
        "    plt.plot(total_val_loss, label='Validation Loss')\n",
        "    plt.plot([initial_epochs-1, initial_epochs-1],\n",
        "              plt.ylim(), label='Start Fine Tuning') # reshift plot around epochs\n",
        "    plt.legend(loc='upper right')\n",
        "    plt.title('Training and Validation Loss')\n",
        "    plt.xlabel('epoch')\n",
        "    plt.show()"
      ],
      "execution_count": 1,
      "outputs": []
    },
    {
      "cell_type": "code",
      "metadata": {
        "colab": {
          "base_uri": "https://localhost:8080/"
        },
        "id": "UgBnVtj-9tWu",
        "outputId": "bce02d86-ab1f-4d43-c5b2-8405db8914c6"
      },
      "source": [
        "# Get TensorFlow Datasets\n",
        "import tensorflow_datasets as tfds\n",
        "\n",
        "# Check if Food101 is inside the list of datasets\n",
        "\"food101\" in tfds.list_builders()"
      ],
      "execution_count": null,
      "outputs": [
        {
          "output_type": "execute_result",
          "data": {
            "text/plain": [
              "True"
            ]
          },
          "metadata": {
            "tags": []
          },
          "execution_count": 4
        }
      ]
    },
    {
      "cell_type": "code",
      "metadata": {
        "id": "ugfkwTme_HVN"
      },
      "source": [
        "# Now to load in the data (takes a while)\n",
        "(train_data, test_data), ds_info = tfds.load(name=\"food101\",\n",
        "                                             split=[\"train\", \"validation\"],\n",
        "                                             shuffle_files=True,\n",
        "                                             as_supervised=True, # Data returned in tuple (data, label)\n",
        "                                             with_info=True)"
      ],
      "execution_count": null,
      "outputs": []
    },
    {
      "cell_type": "markdown",
      "metadata": {
        "id": "4UPtygOgBXt-"
      },
      "source": [
        "# Exploring the Data\n",
        "\n",
        "Some standard procedures and things to find when exploring a new dataset:\n",
        "* Find Input shapes\n",
        "* Find class names\n",
        "* Convert images to tensors (already done)\n",
        "* The datatype of our input data\n",
        "* What the labels look like (are they one-hot-encoded or label-encoded)"
      ]
    },
    {
      "cell_type": "code",
      "metadata": {
        "colab": {
          "base_uri": "https://localhost:8080/"
        },
        "id": "7l8Tey8HAOA3",
        "outputId": "fbef0e77-5e6f-4625-e47e-a67ab6a938e3"
      },
      "source": [
        "# Get features of Food101\n",
        "ds_info.features"
      ],
      "execution_count": null,
      "outputs": [
        {
          "output_type": "execute_result",
          "data": {
            "text/plain": [
              "FeaturesDict({\n",
              "    'image': Image(shape=(None, None, 3), dtype=tf.uint8),\n",
              "    'label': ClassLabel(shape=(), dtype=tf.int64, num_classes=101),\n",
              "})"
            ]
          },
          "metadata": {
            "tags": []
          },
          "execution_count": 7
        }
      ]
    },
    {
      "cell_type": "code",
      "metadata": {
        "colab": {
          "base_uri": "https://localhost:8080/"
        },
        "id": "eQHx8o8IBj75",
        "outputId": "c6871c06-f388-4b84-ef98-7705e73e2add"
      },
      "source": [
        "# Get the class names and look at the first few\n",
        "class_names = ds_info.features[\"label\"].names\n",
        "class_names[:12]"
      ],
      "execution_count": null,
      "outputs": [
        {
          "output_type": "execute_result",
          "data": {
            "text/plain": [
              "['apple_pie',\n",
              " 'baby_back_ribs',\n",
              " 'baklava',\n",
              " 'beef_carpaccio',\n",
              " 'beef_tartare',\n",
              " 'beet_salad',\n",
              " 'beignets',\n",
              " 'bibimbap',\n",
              " 'bread_pudding',\n",
              " 'breakfast_burrito',\n",
              " 'bruschetta',\n",
              " 'caesar_salad']"
            ]
          },
          "metadata": {
            "tags": []
          },
          "execution_count": 8
        }
      ]
    },
    {
      "cell_type": "code",
      "metadata": {
        "colab": {
          "base_uri": "https://localhost:8080/"
        },
        "id": "ncOk46weEpSf",
        "outputId": "8ded5fe5-1373-4eea-ade5-4b9695f951d6"
      },
      "source": [
        "# Take one sample of the train data\n",
        "train_sample = train_data.take(1) # Samples are in format (tensor, label)\n",
        "train_sample"
      ],
      "execution_count": null,
      "outputs": [
        {
          "output_type": "execute_result",
          "data": {
            "text/plain": [
              "<TakeDataset shapes: ((None, None, 3), ()), types: (tf.uint8, tf.int64)>"
            ]
          },
          "metadata": {
            "tags": []
          },
          "execution_count": 9
        }
      ]
    },
    {
      "cell_type": "code",
      "metadata": {
        "colab": {
          "base_uri": "https://localhost:8080/"
        },
        "id": "FC1RUDvDE2P0",
        "outputId": "e956d9e0-c8d6-4218-f20d-cee95c842a06"
      },
      "source": [
        "# Output info about our training sample\n",
        "for image, label in train_sample:\n",
        "  print(f\"\"\"\n",
        "  Image Shape: {image.shape},\n",
        "  Image datatype: {image.dtype},\n",
        "  Target class from Food101 (tensor form): {label},\n",
        "  Class name (string form): {class_names[label.numpy()]}\n",
        "  \"\"\")"
      ],
      "execution_count": null,
      "outputs": [
        {
          "output_type": "stream",
          "text": [
            "\n",
            "  Image Shape: (512, 512, 3),\n",
            "  Image datatype: <dtype: 'uint8'>,\n",
            "  Target class from Food101 (tensor form): 72,\n",
            "  Class name (string form): pancakes\n",
            "  \n"
          ],
          "name": "stdout"
        }
      ]
    },
    {
      "cell_type": "markdown",
      "metadata": {
        "id": "LTc-URIBFUiV"
      },
      "source": [
        "So we can see that the label in this dataset is *not* one-hot-encoded. This was important to find out since it determines what Loss Function we should use."
      ]
    },
    {
      "cell_type": "code",
      "metadata": {
        "colab": {
          "base_uri": "https://localhost:8080/"
        },
        "id": "iR-sDzHKFxbt",
        "outputId": "63591cf4-e9d4-4d77-b1a6-0a036eafc8dd"
      },
      "source": [
        "# Peek at the image tensor\n",
        "image"
      ],
      "execution_count": null,
      "outputs": [
        {
          "output_type": "execute_result",
          "data": {
            "text/plain": [
              "<tf.Tensor: shape=(512, 512, 3), dtype=uint8, numpy=\n",
              "array([[[ 42,  40,  51],\n",
              "        [ 41,  39,  50],\n",
              "        [ 40,  38,  49],\n",
              "        ...,\n",
              "        [ 50,  23,   6],\n",
              "        [ 51,  24,   7],\n",
              "        [ 51,  24,   7]],\n",
              "\n",
              "       [[ 41,  39,  50],\n",
              "        [ 41,  39,  50],\n",
              "        [ 41,  39,  50],\n",
              "        ...,\n",
              "        [ 47,  20,   3],\n",
              "        [ 48,  21,   4],\n",
              "        [ 49,  22,   5]],\n",
              "\n",
              "       [[ 40,  38,  49],\n",
              "        [ 41,  39,  50],\n",
              "        [ 42,  40,  51],\n",
              "        ...,\n",
              "        [ 47,  20,   3],\n",
              "        [ 48,  21,   4],\n",
              "        [ 48,  21,   4]],\n",
              "\n",
              "       ...,\n",
              "\n",
              "       [[188, 180, 191],\n",
              "        [188, 180, 191],\n",
              "        [189, 181, 192],\n",
              "        ...,\n",
              "        [179, 178, 186],\n",
              "        [177, 176, 184],\n",
              "        [175, 174, 182]],\n",
              "\n",
              "       [[185, 177, 188],\n",
              "        [186, 178, 189],\n",
              "        [187, 179, 190],\n",
              "        ...,\n",
              "        [178, 177, 185],\n",
              "        [176, 175, 183],\n",
              "        [175, 174, 182]],\n",
              "\n",
              "       [[179, 171, 182],\n",
              "        [181, 173, 184],\n",
              "        [183, 175, 186],\n",
              "        ...,\n",
              "        [177, 176, 184],\n",
              "        [176, 175, 183],\n",
              "        [174, 173, 181]]], dtype=uint8)>"
            ]
          },
          "metadata": {
            "tags": []
          },
          "execution_count": 16
        }
      ]
    },
    {
      "cell_type": "code",
      "metadata": {
        "colab": {
          "base_uri": "https://localhost:8080/"
        },
        "id": "66v-ji0GFx71",
        "outputId": "d65428e1-b9a3-4ecc-e325-7a17e28c35d4"
      },
      "source": [
        "# Find the range of the pixel values in the image tensor\n",
        "import tensorflow as tf\n",
        "tf.reduce_min(image), tf.reduce_max(image)"
      ],
      "execution_count": null,
      "outputs": [
        {
          "output_type": "execute_result",
          "data": {
            "text/plain": [
              "(<tf.Tensor: shape=(), dtype=uint8, numpy=0>,\n",
              " <tf.Tensor: shape=(), dtype=uint8, numpy=255>)"
            ]
          },
          "metadata": {
            "tags": []
          },
          "execution_count": 13
        }
      ]
    },
    {
      "cell_type": "markdown",
      "metadata": {
        "id": "lW5cVc54GKAI"
      },
      "source": [
        "Okay so the pixel values are in the range we expect. \n",
        "\n",
        "Note that if we take a look at multiple images (running `take()` multiple times), we see that their shapes are *not* all the same which means we'd have to resize them. \n",
        "\n",
        "Their datatypes are integers which is a problem since we need to cast floats for the image tensor to optimize performance."
      ]
    },
    {
      "cell_type": "code",
      "metadata": {
        "colab": {
          "base_uri": "https://localhost:8080/",
          "height": 264
        },
        "id": "-nNrLgrWGmTH",
        "outputId": "cca33032-e84e-4fec-dd06-8b7ab80faad7"
      },
      "source": [
        "# Plot an image tensor and check if the given label is correct\n",
        "import matplotlib.pyplot as plt\n",
        "plt.imshow(image)\n",
        "plt.title(class_names[label.numpy()])\n",
        "plt.axis(False);"
      ],
      "execution_count": null,
      "outputs": [
        {
          "output_type": "display_data",
          "data": {
            "image/png": "[encoded data removed]",
            "text/plain": [
              "<Figure size 432x288 with 1 Axes>"
            ]
          },
          "metadata": {
            "tags": [],
            "needs_background": "light"
          }
        }
      ]
    },
    {
      "cell_type": "markdown",
      "metadata": {
        "id": "kJMF6vZ2Gyrz"
      },
      "source": [
        "# Preprocessing the Data\n",
        "\n",
        "We have already extracted the data and split it thanks to TensorFlow Datasets. Now to work on preprocessing it before passing it to our Network.\n",
        "\n",
        "Some facts:\n",
        "* The values are all `uint8`- we'd like to cast as `float16` or `float32` since Neural Networks perform better off those\n",
        "* The values are *not* scaled- we may have to normalize the values depending on which architecture we use\n",
        "* The image tensors are all of different shapes- we need to resize them to a common shape\n",
        "\n",
        "Let's write a preprocessing function to address these. We won't normalize the pixel values however, since we will use an `EfficientNetBX` model which already has rescaling built in."
      ]
    },
    {
      "cell_type": "code",
      "metadata": {
        "id": "OUFBgQm1Itdu"
      },
      "source": [
        "# Make a preprocessing function\n",
        "def preprocess_img(image, label, img_shape=224):\n",
        "  \"\"\"Converts image datatype from `uint8` to `float32` and reshapes image tensor to [img_shape, img_shape, color_channels]\"\"\"\n",
        "  image = tf.image.resize(image, [img_shape, img_shape])\n",
        "  # Return a tuple of image and label\n",
        "  return tf.cast(image, tf.float32), label "
      ],
      "execution_count": null,
      "outputs": []
    },
    {
      "cell_type": "code",
      "metadata": {
        "colab": {
          "base_uri": "https://localhost:8080/"
        },
        "id": "tqNYGtp6JWZd",
        "outputId": "2ce6a094-ca4a-4fc3-f30c-e480daf0eaff"
      },
      "source": [
        "# Test out the function on the outputs\n",
        "preprocessed_img = preprocess_img(image, label)[0]\n",
        "print(f\"Image before preprocessing:\\n {image[:2]}..., \\nShape: {image.shape}, \\nDatatype:{image.dtype}\")\n",
        "print()\n",
        "print(f\"Image after preprocessing:\\n {preprocessed_img[:2]}..., \\nShape: {preprocessed_img.shape}, \\nDatatype:{preprocessed_img.dtype}\")"
      ],
      "execution_count": null,
      "outputs": [
        {
          "output_type": "stream",
          "text": [
            "Image before preprocessing:\n",
            " [[[42 40 51]\n",
            "  [41 39 50]\n",
            "  [40 38 49]\n",
            "  ...\n",
            "  [50 23  6]\n",
            "  [51 24  7]\n",
            "  [51 24  7]]\n",
            "\n",
            " [[41 39 50]\n",
            "  [41 39 50]\n",
            "  [41 39 50]\n",
            "  ...\n",
            "  [47 20  3]\n",
            "  [48 21  4]\n",
            "  [49 22  5]]]..., \n",
            "Shape: (512, 512, 3), \n",
            "Datatype:<dtype: 'uint8'>\n",
            "\n",
            "Image after preprocessing:\n",
            " [[[41.127552  39.127552  50.127552 ]\n",
            "  [40.642857  38.642857  49.642857 ]\n",
            "  [40.285713  38.285713  49.285713 ]\n",
            "  ...\n",
            "  [48.92855   21.928549   4.500022 ]\n",
            "  [47.7398    20.739801   3.7398005]\n",
            "  [49.301044  22.301043   5.3010426]]\n",
            "\n",
            " [[40.642857  38.642857  49.642857 ]\n",
            "  [42.9949    40.9949    51.9949   ]\n",
            "  [41.85714   39.85714   50.85714  ]\n",
            "  ...\n",
            "  [49.127533  22.127531   4.699003 ]\n",
            "  [47.862247  20.862246   3.8622463]\n",
            "  [48.928574  21.928572   4.9285717]]]..., \n",
            "Shape: (224, 224, 3), \n",
            "Datatype:<dtype: 'float32'>\n"
          ],
          "name": "stdout"
        }
      ]
    },
    {
      "cell_type": "markdown",
      "metadata": {
        "id": "QHy3iXWuJ1FF"
      },
      "source": [
        "Beautiful. Now the images have the same universal shape and the pixel values are cast as floats. \n",
        "\n",
        "Note that we did not normalize values since we'll use `EfficientNetBX`- if we wanted to do this inside the function, it would be as simple as `image = image / 255.`\n",
        "\n",
        "## Batching and preparing our Datasets\n",
        "\n",
        "Now we made a function to preprocess *one* image; we want this function to be applied to *all* images so all our data is ready for preprocessing.\n",
        "\n",
        "TensorFlow has great documentation for **data input pipelines**: https://www.tensorflow.org/guide/data \n",
        "\n",
        "We will utilise some of the techniques mentioned in the documentation. We will\n",
        "* Apply the function to all the images\n",
        "* Turn our data into **batches**"
      ]
    },
    {
      "cell_type": "code",
      "metadata": {
        "id": "0TL6c-sRLL5S"
      },
      "source": [
        "# Map preprocessing function to training (and parallelize)\n",
        "train_data = train_data.map(map_func=preprocess_img, num_parallel_calls=tf.data.AUTOTUNE)\n",
        "\n",
        "# Shuffle train_data and turn it into Batches; also, prefetch it (runs faster)\n",
        "train_data = train_data.shuffle(buffer_size=1000).batch(batch_size=32).prefetch(buffer_size=tf.data.AUTOTUNE)\n",
        "\n",
        "# Map preprocessing function to test data\n",
        "test_data = test_data.map(preprocess_img, num_parallel_calls=tf.data.AUTOTUNE).batch(32).prefetch(tf.data.AUTOTUNE)"
      ],
      "execution_count": null,
      "outputs": []
    },
    {
      "cell_type": "markdown",
      "metadata": {
        "id": "Ddy1MbjbLnz1"
      },
      "source": [
        "In this step, we used `map` to map the function to all the training instances. It is important to note that the function we wrote also included and returned the `label`. This was done because the `train_data` we got from `tfds` returned both the image tensors **and** the labels. So we don't lose on any formatting here.\n",
        "\n",
        "The second argument which specifies `AUTOTUNE` basically tells TensorFlow to have Colab use **all** the computational power it has.\n",
        "\n",
        "In the second line of code, we `shuffle` the training data and set the number of samples we want to shuffle: ideally we'd set it to `len(train_data)` but with so many samples, we need to cut it small. After that we `batch` to form the mini-batches and call `prefetch` which is something that speeds the process up by having our kernel preprocess already loaded-in images on our CPU while the others are being operated on our GPU."
      ]
    },
    {
      "cell_type": "code",
      "metadata": {
        "colab": {
          "base_uri": "https://localhost:8080/"
        },
        "id": "M6VEdu9HNbg3",
        "outputId": "81330dec-7338-415e-d1d6-82fa8ed0e8b7"
      },
      "source": [
        "# Check the two sets\n",
        "train_data, test_data"
      ],
      "execution_count": null,
      "outputs": [
        {
          "output_type": "execute_result",
          "data": {
            "text/plain": [
              "(<PrefetchDataset shapes: ((None, 224, 224, 3), (None,)), types: (tf.float32, tf.int64)>,\n",
              " <PrefetchDataset shapes: ((None, 224, 224, 3), (None,)), types: (tf.float32, tf.int64)>)"
            ]
          },
          "metadata": {
            "tags": []
          },
          "execution_count": 23
        }
      ]
    },
    {
      "cell_type": "markdown",
      "metadata": {
        "id": "1CRVGh0nNgyE"
      },
      "source": [
        "Perfect!\n",
        "\n",
        "The images are of the proper size, and have the appropriate data types. Loading these two sets in is very fast, since we defined the parallelization strategy.\n",
        "\n",
        "A summary of what we did:\n",
        "* Map a preprocessing function to the training set\n",
        "* Shuffled a number of elements across the training set \n",
        "* Enabled Prefetching and set up parallelization (multithreaded loading across all available CPUs)\n",
        "\n",
        "# Modelling\n",
        "\n",
        "Before we start creating our model, we need to instantiate some Callbacks.\n",
        "\n",
        "This is because we have so many training instances, hence training can take a long time and we want to be able to do things like log performance on TensorBoard so we can view it later, etc.\n",
        "\n",
        "We'll make use of\n",
        "* the TensorBoard callback to visualize training results later if we want (already functionalized)\n",
        "* `ModelCheckpoint` to save our model's performance after feature extraction"
      ]
    },
    {
      "cell_type": "code",
      "metadata": {
        "id": "kKeQo9KsRy1B"
      },
      "source": [
        "# Create the Checkpoint callback\n",
        "checkpoint_path = \"model_checkpoints/cp.ckpt\"\n",
        "model_checkpoint = tf.keras.callbacks.ModelCheckpoint(checkpoint_path,\n",
        "                                                      monitor=\"val_loss\",\n",
        "                                                      save_best_only=True,\n",
        "                                                      save_weights_only=True,\n",
        "                                                      verbose=0)"
      ],
      "execution_count": null,
      "outputs": []
    },
    {
      "cell_type": "markdown",
      "metadata": {
        "id": "x1JbDPIyTI9_"
      },
      "source": [
        "## Setup Mixed Precision Training\n",
        "\n",
        "Again, this speeds up processes by using lower-bit precision for floats. It only works if we have enough Compute Capability on our GPU; if we want to use Colab, Tesla T4 is the only one that supports Mixed Precision Training that is offered by Google.\n",
        "\n",
        "What's the logic for this speeding up by a possible **factor of 3**?\n",
        "\n",
        "This just has the GPU (which can only fit a certain number of bits in it) convert `float32` to `float16` when it can so it can carry out even more processes at once."
      ]
    },
    {
      "cell_type": "code",
      "metadata": {
        "id": "S7LxscDhTp3z"
      },
      "source": [
        "# Turn on Mixed Precision training (only works with a compatible GPU)\n",
        "from tensorflow.keras import mixed_precision\n",
        "mixed_precision.set_global_policy(\"mixed_float16\") "
      ],
      "execution_count": null,
      "outputs": []
    },
    {
      "cell_type": "markdown",
      "metadata": {
        "id": "QBJ-w6xKUrRN"
      },
      "source": [
        "# Build Feature Extraction Model\n",
        "\n",
        "When setting up a model with Mixed Precision Training, we have to make one more change to our workflow: we specify the `dtype` of the Output Layer to be `float32` to preserve **numeric stability** (look at the docs mentioned above)."
      ]
    },
    {
      "cell_type": "code",
      "metadata": {
        "colab": {
          "base_uri": "https://localhost:8080/"
        },
        "id": "Q4n6U6jDVp_R",
        "outputId": "41f482c6-b232-4b90-e567-a6ad4eacd0d6"
      },
      "source": [
        "from tensorflow.keras import layers\n",
        "from tensorflow.keras.layers.experimental import preprocessing\n",
        "\n",
        "# Create base model which we freeze\n",
        "input_shape = (224, 224, 3)\n",
        "base_model = tf.keras.applications.EfficientNetB0(include_top=False)\n",
        "base_model.trainable = False\n",
        "\n",
        "# Create functional model\n",
        "inputs = layers.Input(shape=input_shape, name=\"input_layer\")\n",
        "# x = preprocessing.Rescaling(1./255)(inputs) <- use this for non-EfficientNet backbones\n",
        "x = base_model(inputs, training=False) # Keep in Inference Mode\n",
        "x = layers.GlobalAveragePooling2D(name=\"pooling_layer\")(x)\n",
        "x = layers.Dense(len(class_names))(x)\n",
        "outputs = layers.Activation(\"softmax\", dtype=tf.float32, name=\"softmax_output\")(x) # Specify dtype for Mixed Precision numeric stability\n",
        "\n",
        "model = tf.keras.Model(inputs, outputs)\n",
        "\n",
        "# Compile the model- classes are label encoded so we can't use Categorical Crossentropy\n",
        "model.compile(loss=\"sparse_categorical_crossentropy\",\n",
        "              optimizer=tf.keras.optimizers.Adam(),\n",
        "              metrics=[\"accuracy\"])"
      ],
      "execution_count": null,
      "outputs": [
        {
          "output_type": "stream",
          "text": [
            "Downloading data from https://storage.googleapis.com/keras-applications/efficientnetb0_notop.h5\n",
            "16711680/16705208 [==============================] - 0s 0us/step\n"
          ],
          "name": "stdout"
        }
      ]
    },
    {
      "cell_type": "code",
      "metadata": {
        "colab": {
          "base_uri": "https://localhost:8080/"
        },
        "id": "I7IKI898XMu6",
        "outputId": "e555ece4-7c74-447d-f213-8637a9587d45"
      },
      "source": [
        "# Check the structure\n",
        "model.summary()"
      ],
      "execution_count": null,
      "outputs": [
        {
          "output_type": "stream",
          "text": [
            "Model: \"model\"\n",
            "_________________________________________________________________\n",
            "Layer (type)                 Output Shape              Param #   \n",
            "=================================================================\n",
            "input_layer (InputLayer)     [(None, 224, 224, 3)]     0         \n",
            "_________________________________________________________________\n",
            "efficientnetb0 (Functional)  (None, None, None, 1280)  4049571   \n",
            "_________________________________________________________________\n",
            "global_average_pooling2d (Gl (None, 1280)              0         \n",
            "_________________________________________________________________\n",
            "dense (Dense)                (None, 101)               129381    \n",
            "_________________________________________________________________\n",
            "softmax_float32 (Activation) (None, 101)               0         \n",
            "=================================================================\n",
            "Total params: 4,178,952\n",
            "Trainable params: 129,381\n",
            "Non-trainable params: 4,049,571\n",
            "_________________________________________________________________\n"
          ],
          "name": "stdout"
        }
      ]
    },
    {
      "cell_type": "markdown",
      "metadata": {
        "id": "Zuzh6U9sXPyd"
      },
      "source": [
        "So how do you check for Mixed Precision being used?\n",
        "\n",
        "You can loop through each layer and check *which* `dtype_policy` is being used. We don't have it enabled right now (since we don't have access to a T4) but the policy for each layer would be the same we specified earlier: `mixed_float16`."
      ]
    },
    {
      "cell_type": "code",
      "metadata": {
        "colab": {
          "base_uri": "https://localhost:8080/"
        },
        "id": "GkRlAJkoYE__",
        "outputId": "51c88b06-3c6a-49fc-bae3-a2c31d79380c"
      },
      "source": [
        "# Check the dtype_policy for each layer\n",
        "for layer in model.layers:\n",
        "  print(layer.name, layer.trainable, layer.dtype, layer.dtype_policy)"
      ],
      "execution_count": null,
      "outputs": [
        {
          "output_type": "stream",
          "text": [
            "input_layer True float32 <Policy \"float32\">\n",
            "efficientnetb0 False float32 <Policy \"float32\">\n",
            "global_average_pooling2d True float32 <Policy \"float32\">\n",
            "dense True float32 <Policy \"float32\">\n",
            "softmax_float32 True float32 <Policy \"float32\">\n"
          ],
          "name": "stdout"
        }
      ]
    },
    {
      "cell_type": "markdown",
      "metadata": {
        "id": "gpCopKIyYNU_"
      },
      "source": [
        "If you check the policy for each and every layer in the `EfficientNetB0` backbone, you will find the same mixed precision `dtype_policy`  for **all** the underlying layers. \n",
        "\n",
        "## Fitting the Feature Extraction Model"
      ]
    },
    {
      "cell_type": "code",
      "metadata": {
        "id": "08lNOSRQY4m6"
      },
      "source": [
        "# Fit the feature extraction model for 3 epochs \n",
        "history_feature_extraction = model.fit(train_data,\n",
        "                                       epochs=3,\n",
        "                                       validation_data=test_data,\n",
        "                                       validation_steps=int(0.15*len(test_data)),\n",
        "                                       callbacks=[create_tensorboard_callback(experiment=\"feature_extraction_model\"),\n",
        "                                                  model_checkpoint])"
      ],
      "execution_count": null,
      "outputs": []
    },
    {
      "cell_type": "code",
      "metadata": {
        "id": "Lo6Eoi4sltTp"
      },
      "source": [
        "# Check the Loss curves\n",
        "plot_loss_curves(history_feature_extraction)"
      ],
      "execution_count": null,
      "outputs": []
    },
    {
      "cell_type": "markdown",
      "metadata": {
        "id": "2Pll3f8ScC1P"
      },
      "source": [
        "If you actually enabled Mixed Precision Training, you'd find that the time it takes to complete one epoch is just **three minutes**. And this is with **75000 training images** in total; that is FAST.\n",
        "\n",
        "Our score to beat is around 76% which comes from the DeepFood paper."
      ]
    },
    {
      "cell_type": "code",
      "metadata": {
        "id": "LPvAPIWwchgq"
      },
      "source": [
        "results_feature_extract_model = model.evaluate(test_data)\n",
        "results_feature_extract_model"
      ],
      "execution_count": null,
      "outputs": []
    },
    {
      "cell_type": "markdown",
      "metadata": {
        "id": "Qt0mkMa4csN2"
      },
      "source": [
        "## Saving the Model\n",
        "\n",
        "When fine-tuning our model, it will be helpful to have saved the Feature Extraction model so we can return/revert to it if we want to try different techniques.\n",
        "\n",
        "Since this is a huge model, let's save it to Google Drive instead of Colab."
      ]
    },
    {
      "cell_type": "code",
      "metadata": {
        "id": "Qv0mX9hydgG_"
      },
      "source": [
        "# Save model to Drive after mounting\n",
        "save_dir = \"drive/MyDrive/models/food101/feature_extraction\"\n",
        "os.makedirs(save_dir) # Make this directory if it doesn't already exist\n",
        "\n",
        "# Save model\n",
        "model.save(save_dir)"
      ],
      "execution_count": null,
      "outputs": []
    },
    {
      "cell_type": "code",
      "metadata": {
        "id": "pz-_esNGgnAl"
      },
      "source": [
        "# Load the model we just saved\n",
        "loaded_model = tf.keras.models.load_model(save_dir)\n",
        "\n",
        "# Get evaluation metrics for loaded model to compare to the variable saved before\n",
        "results_loaded = loaded_model.evaluate(test_data)\n",
        "\n",
        "results_loaded, results_feature_extract_model # Should be very close"
      ],
      "execution_count": null,
      "outputs": []
    },
    {
      "cell_type": "markdown",
      "metadata": {
        "id": "SbXsXjwzixoE"
      },
      "source": [
        "# Fine-tuning\n",
        "\n",
        "Now to try and beat the score on the DeepFood paper. "
      ]
    },
    {
      "cell_type": "code",
      "metadata": {
        "id": "So1zERmfjIt2"
      },
      "source": [
        "# Download the saved model from Google Storage\n",
        "!wget https://storage.googleapis.com/ztm_tf_course/food_vision/07_efficientnetb0_feature_extract_model_mixed_precision.zip"
      ],
      "execution_count": null,
      "outputs": []
    },
    {
      "cell_type": "code",
      "metadata": {
        "id": "03tmKL-sjMA_"
      },
      "source": [
        "# Unzip the SavedModel downloaded from Google Stroage\n",
        "!mkdir downloaded_gs_model # create new dir to store downloaded feature extraction model\n",
        "!unzip 07_efficientnetb0_feature_extract_model_mixed_precision.zip -d downloaded_gs_model"
      ],
      "execution_count": null,
      "outputs": []
    },
    {
      "cell_type": "code",
      "metadata": {
        "id": "tZQ4Vnw0jT50"
      },
      "source": [
        "# Load and evaluate the downloaded model\n",
        "downloaded_model = tf.keras.models.load_model(\"/content/downloaded_gs_model/07_efficientnetb0_feature_extract_model_mixed_precision\")\n",
        "results_downloaded = downloaded_model.evaluate(test_data)\n",
        "results_downloaded"
      ],
      "execution_count": null,
      "outputs": []
    },
    {
      "cell_type": "code",
      "metadata": {
        "id": "yfcVe0gCjnyJ"
      },
      "source": [
        "# What does the downloaded model look like?\n",
        "downloaded_model.summary()"
      ],
      "execution_count": null,
      "outputs": []
    },
    {
      "cell_type": "markdown",
      "metadata": {
        "id": "Df5_ZyfTjybV"
      },
      "source": [
        "We will make use of `EarlyStopping` to reduce the chances of Overfitting as best we can- specifically we will stop training if the Validation Loss does not improve for 3 epochs.  \n",
        "\n",
        "`ReduceLROnPlateau` will also be helpful: it will automatically reduce the Learning Rate as the Loss approches the minimum value (we don't want it to continously make equally big jumps). \n",
        "\n",
        "We will also use the `ModelCheckpoint` callback to save the best model during fine-tuning so we can run experiments later if we desire."
      ]
    },
    {
      "cell_type": "code",
      "metadata": {
        "id": "LZHvUDt_kYsO"
      },
      "source": [
        "# Setup EarlyStopping\n",
        "early_stopping = tf.keras.callbacks.EarlyStopping(monitor=\"val_loss\", patience=3)\n",
        "\n",
        "# Setup ReduceLROnPlateau\n",
        "reduce_lr = tf.keras.callbacks.ReduceLROnPlateau(monitor=\"val_loss\",\n",
        "                                                 factor=0.2,\n",
        "                                                 patience=2,\n",
        "                                                 min_lr=1e-7,\n",
        "                                                 verbose=1)\n",
        "# Create another ModelCheckpoint\n",
        "checkpoint_path = \"fine_tune_checkpoints/\"\n",
        "finetune_checkpoint = tf.keras.callbacks.ModelCheckpoint(checkpoint_path,\n",
        "                                                         save_best_only=True,\n",
        "                                                         monitor=\"val_loss\")"
      ],
      "execution_count": null,
      "outputs": []
    },
    {
      "cell_type": "markdown",
      "metadata": {
        "id": "KJaLybYdmkeg"
      },
      "source": [
        "In this Fine-tuning round, we will unfreeze **all** the layers in the base model. We do this because we have a **lot** of data and we can afford to do this step: if we had much less data, we would risk Overfitting if we unfroze too many layers in the pretrained model.\n",
        "\n",
        "A final note on Fine-tuning: a good rule of thumb is to set the initial Learning Rate of our Optimizer around `10x` lower than the value used for training the Feature Extractor: the default for `Adam` is `0.001` so we shall use `0.0001`."
      ]
    },
    {
      "cell_type": "code",
      "metadata": {
        "id": "cinAd4Wkm29e"
      },
      "source": [
        "# Unfreeze all of the model layers (including the base model)\n",
        "for layer in downloaded_model.layers:\n",
        "  layer.trainable = True\n",
        "  print(layer.name, layer.trainable)\n",
        "\n",
        "# Find the number of trainable layers in the base model as a final check\n",
        "count = 0\n",
        "for layer in downloaded_model.layers[1].layers:\n",
        "  count += int(layer.trainable)\n",
        "print(f\"Number of trainable layers in EfficientNetB0: {count}\")"
      ],
      "execution_count": null,
      "outputs": []
    },
    {
      "cell_type": "code",
      "metadata": {
        "id": "FXP-LnOEngSN"
      },
      "source": [
        "# Compile the model now\n",
        "downloaded_model.compile(loss=\"sparse_categorical_crossentropy\",\n",
        "                         optimizers=tf.keras.optimizers.Adam(learning_rate=0.0001),\n",
        "                         metrics=[\"accuracy\"])"
      ],
      "execution_count": null,
      "outputs": []
    },
    {
      "cell_type": "code",
      "metadata": {
        "id": "XUtGIOJ7qh12"
      },
      "source": [
        "# Fit for 100 epochs since we don't care for Overfitting\n",
        "history_fine_tune = downloaded_model.fit(train_data,\n",
        "                                         epochs=100,\n",
        "                                         steps_per_epoch=len(train_data),\n",
        "                                         validation_data=test_data,\n",
        "                                         validation_steps=int(0.15 * len(test_data)),\n",
        "                                         callbacks=[create_tensorboard_callback(experiment=\"finetuned_model\"),\n",
        "                                                    finetune_checkpoint,\n",
        "                                                    early_stopping,\n",
        "                                                    reduce_lr],\n",
        "                                         verbose=0)"
      ],
      "execution_count": null,
      "outputs": []
    },
    {
      "cell_type": "code",
      "metadata": {
        "id": "PQ1QlPOLr1UK"
      },
      "source": [
        "# Save model to Drive \n",
        "save_dir = \"drive/MyDrive/models/food101/finetune\"\n",
        "os.makedirs(save_dir) # Make this directory if it doesn't already exist\n",
        "\n",
        "# Save model\n",
        "downloaded_model.save(save_dir)"
      ],
      "execution_count": null,
      "outputs": []
    },
    {
      "cell_type": "code",
      "metadata": {
        "id": "bJiqPotvsvmS"
      },
      "source": [
        "# Download it \n",
        "!wget https://storage.googleapis.com/ztm_tf_course/food_vision/07_efficientnetb0_fine_tuned_101_classes_mixed_precision.zip\n",
        "\n",
        "# Unzip fine-tuned model\n",
        "!mkdir downloaded_fine_tuned_gs_model # create separate directory for fine-tuned model downloaded from Google Storage\n",
        "!unzip /content/07_efficientnetb0_fine_tuned_101_classes_mixed_precision -d downloaded_fine_tuned_gs_model"
      ],
      "execution_count": null,
      "outputs": []
    },
    {
      "cell_type": "code",
      "metadata": {
        "id": "DrMJBcTwsYEZ"
      },
      "source": [
        "# Load in fine-tuned model from Google Storage and evaluate\n",
        "final_model = tf.keras.models.load_model(\"/content/downloaded_fine_tuned_gs_model/07_efficientnetb0_fine_tuned_101_classes_mixed_precision\")\n",
        "\n",
        "# Evaluate model\n",
        "results_finetuned = final_model.evaluate(test_data)\n",
        "results_finetuned"
      ],
      "execution_count": null,
      "outputs": []
    },
    {
      "cell_type": "markdown",
      "metadata": {
        "id": "tudhWxOWsh-c"
      },
      "source": [
        "It seems that our model beat the results of the DeepFood paper (77.4% top-1 accuracy)."
      ]
    },
    {
      "cell_type": "code",
      "metadata": {
        "id": "woXn_Zcds9tq"
      },
      "source": [
        "# Get the summary\n",
        "final_model.summary()"
      ],
      "execution_count": null,
      "outputs": []
    },
    {
      "cell_type": "markdown",
      "metadata": {
        "id": "vQSOIih_tsdl"
      },
      "source": [
        "# Evaluating\n",
        "\n",
        "Now that we've formed a model to beat the DeepFood paper, let's visualize some predictions.\n",
        "\n",
        "Some things to try out:\n",
        "* Plot Loss curves\n",
        "* A Classification Report to see the model performance on a class-by-class basis\n",
        "* A graph to display the F1-scores of each class\n",
        "* Plotting a random image and having the model make a prediction on it, then visualizing the full picture\n",
        "* Finding the \"most wrong\" model predictions\n"
      ]
    },
    {
      "cell_type": "code",
      "metadata": {
        "id": "UI5kGsGSweLI"
      },
      "source": [
        "# Plot Loss curves across finetuning\n",
        "compare_historys(history_feature_extraction, history_fine_tune)"
      ],
      "execution_count": null,
      "outputs": []
    },
    {
      "cell_type": "code",
      "metadata": {
        "id": "GVii31NGvjk9"
      },
      "source": [
        "# Make predictions with the model\n",
        "pred_probs = final_model.predict(test_data, verbose=1)\n",
        "\n",
        "# Check the structure of the predictions predictions\n",
        "print(f\"Number of predictions: {len(pred_probs)}\")\n",
        "print(f\"Shape of predictions: {pred_probs.shape}\")\n",
        "print(f\"Number of prediction probabilities for sample 0: {len(pred_probs[0])}\")\n",
        "print(f\"What prediction probability sample 0 looks like:\\n {pred_probs[0]}\")\n",
        "print(f\"The class with the highest predicted probability by the model for sample 0: {pred_probs[0].argmax()}\")"
      ],
      "execution_count": null,
      "outputs": []
    },
    {
      "cell_type": "code",
      "metadata": {
        "id": "8VTKh6Ekxr_-"
      },
      "source": [
        "# Get the class predictions of each label\n",
        "pred_classes = pred_probs.argmax(axis=1)\n",
        "pred_classes[:10]"
      ],
      "execution_count": null,
      "outputs": []
    },
    {
      "cell_type": "code",
      "metadata": {
        "id": "YQE8yBOTxzLK"
      },
      "source": [
        "# Get the labels now that we have the predicted classes\n",
        "y_labels = []\n",
        "for images, labels in test_data.unbatch():\n",
        "  y_labels.append(labels.numpy().argmax())\n",
        "y_labels[:10]"
      ],
      "execution_count": null,
      "outputs": []
    },
    {
      "cell_type": "code",
      "metadata": {
        "id": "BAViBa_zyhwx"
      },
      "source": [
        "# Make a classification report\n",
        "from sklearn.metrics import classification_report\n",
        "print(classification_report(y_labels, pred_classes))"
      ],
      "execution_count": null,
      "outputs": []
    },
    {
      "cell_type": "code",
      "metadata": {
        "id": "EasjurV0yttD"
      },
      "source": [
        "# Now to construct a plot of the F1-scores for each class\n",
        "cr_dict = classification_report(y_labels, pred_classes, output_dict=True)\n",
        "\n",
        "# Prepare dictionary for holding F1-scores\n",
        "f1_scores = {}\n",
        "for k,v in cr_dict.items():\n",
        "  if k == \"accuracy\": # Reached the end of the F1-scores\n",
        "    break\n",
        "  else:\n",
        "    f1_scores[class_names[int(k)]] = v[\"f1-score\"]\n",
        "\n",
        "# Make a DataFrame\n",
        "import pandas as pd\n",
        "f1_df = pd.DataFrame({\n",
        "    \"class_name\": list(f1_scores.keys()),\n",
        "    \"f1-score\": list(f1_scores.values())\n",
        "}).sort_values(\"f1-score\", ascending=False)\n",
        "\n",
        "f1_df"
      ],
      "execution_count": null,
      "outputs": []
    },
    {
      "cell_type": "code",
      "metadata": {
        "id": "B4JFQvgszs13"
      },
      "source": [
        "# Make a Horizontal Bar chart with it\n",
        "import matplotlib.pyplot as plt\n",
        "\n",
        "fig, ax = plt.subplots(figsize=(12,25))\n",
        "scores = ax.barh(range(len(f1_df)), f1_df[\"f1-score\"].values)\n",
        "ax.set_yticks(range(len(f1_df)))\n",
        "ax.set_yticklabels(list(f1_df[\"class_name\"]))\n",
        "ax.set_xlabel(\"f1-score\")\n",
        "ax.set_title(\"F1-scores for each Food101 class\")\n",
        "ax.invert_yaxis()"
      ],
      "execution_count": null,
      "outputs": []
    },
    {
      "cell_type": "code",
      "metadata": {
        "id": "9WEoK3K727M9"
      },
      "source": [
        "# Get a random image\n",
        "sample = train_data.take(1)\n",
        "\n",
        "plt.figure(figsize=(18,10))\n",
        "\n",
        "# Display predictions for three samples\n",
        "for i in range(3):\n",
        "  for image, label in sample:\n",
        "    # Plot the image\n",
        "    plt.imshow(image / 255.)\n",
        "    # Grab the prediction for the tensor\n",
        "    pred = final_model.predict(tf.expand_dims(image, axis=1))\n",
        "    predicted_class = class_names[pred.argmax()]\n",
        "    # Display the title\n",
        "    color = \"red\"\n",
        "    if predicted_class == label:\n",
        "      color = \"green\"\n",
        "    plt.title(f\"Predicted: {predicted_class}, Prob: {pred.max():.2f}\\n\n",
        "    Actual: {label}\", c=color)\n",
        "    plt.axis(False);"
      ],
      "execution_count": null,
      "outputs": []
    },
    {
      "cell_type": "markdown",
      "metadata": {
        "id": "0XmcFOob4NfH"
      },
      "source": [
        "# FIN"
      ]
    },
    {
      "cell_type": "code",
      "metadata": {
        "id": "YrPIe41E4PLl"
      },
      "source": [
        ""
      ],
      "execution_count": null,
      "outputs": []
    }
  ]
}